{
 "cells": [
  {
   "cell_type": "markdown",
   "id": "868f20a6",
   "metadata": {},
   "source": [
    "# Module6Lab01\n",
    "### Annelise Lobo\n",
    "### 08/07/2023"
   ]
  },
  {
   "cell_type": "markdown",
   "id": "6b3cc38d",
   "metadata": {},
   "source": [
    "## Question 1\n",
    "1) import the random library. \n",
    "\n",
    "2) Use `random.seed(10)` to initialize a pseudorandom number generator. \n",
    "\n",
    "3) Create a list of 50 random integers from 0 to 15. Call this list `int_list`.\n",
    "\n",
    "4) Print the 10th and 30th elements of the list. \n",
    "\n",
    "You will need to use list comprehension to do this. The syntax for list comprehension is: <new_list> = `[<expression> for <item> in <iterable>]`. For this question your expression will be a randint generator from the random library and your iterable will be `range()`. Researh the documentation on how to use both functions. "
   ]
  },
  {
   "cell_type": "code",
   "execution_count": 20,
   "id": "7abe6a13",
   "metadata": {},
   "outputs": [
    {
     "name": "stdout",
     "output_type": "stream",
     "text": [
      "[1, 13, 15, 0, 6, 14, 15, 8, 5, 1, 15, 10, 2, 7, 11, 1, 13, 4, 11, 12, 13, 9, 8, 14, 5, 9, 11, 4, 14, 7, 14, 12, 1, 0, 7, 4, 6, 9, 11, 7, 10, 14, 13, 15, 2, 10, 5, 7, 13, 7]\n",
      "The 10th element of the list is: 10\n",
      "The 30th element of the list is: 12\n"
     ]
    }
   ],
   "source": [
    "# your code here\n",
    "import random\n",
    "\n",
    "random.seed(10)\n",
    "\n",
    "int_list = []\n",
    "\n",
    "for i in range(50):\n",
    "    int_list.append(random.randint(0, 15))\n",
    "    \n",
    "print(int_list)\n",
    "\n",
    "print(\"The 10th element of the list is: \" + str(int_list[11]))\n",
    "print(\"The 30th element of the list is: \" + str(int_list[31]))"
   ]
  },
  {
   "cell_type": "markdown",
   "id": "48d4d289",
   "metadata": {},
   "source": [
    "## Question 2\n",
    "1) import the string library.\n",
    "\n",
    "2) Create the string `az_upper` using `string.ascii_uppercase`. This is a single string of uppercase letters\n",
    "\n",
    "3) Create a list of each individual letter from the string. To do this you will need to iterate over the string and append each letter to the an empty list. Call this list `az_list`. \n",
    "\n",
    "4) Print the list.\n",
    "\n",
    "You will need to use a for-loop for this. The syntax for this for-loop should be: \n",
    "\n",
    "`for i in string>:\n",
    "   <list operation>\n",
    "`"
   ]
  },
  {
   "cell_type": "code",
   "execution_count": 36,
   "id": "e259b56f",
   "metadata": {},
   "outputs": [
    {
     "name": "stdout",
     "output_type": "stream",
     "text": [
      "['A', 'B', 'C', 'D', 'E', 'F', 'G', 'H', 'I', 'J', 'K', 'L', 'M', 'N', 'O', 'P', 'Q', 'R', 'S', 'T', 'U', 'V', 'W', 'X', 'Y', 'Z']\n"
     ]
    }
   ],
   "source": [
    "# your code here\n",
    "import string \n",
    "\n",
    "az_upper = string.ascii_uppercase\n",
    "az_list = []\n",
    "\n",
    "for i in az_upper:\n",
    "    az_list.append(i)\n",
    "    \n",
    "print(az_list)"
   ]
  },
  {
   "cell_type": "markdown",
   "id": "5b775542",
   "metadata": {},
   "source": [
    "## Question 3\n",
    "1) Create a set from 1 to 5. Call this `set_1`.\n",
    "\n",
    "2) Create a set from int_list. Call this `set_2`.\n",
    "\n",
    "3) Create a set by finding the `symmetric_difference()` of `set_1` and `set_2`. Call this `set_3`.\n",
    "\n",
    "4) What is the length of all three sets?\n",
    "\n"
   ]
  },
  {
   "cell_type": "code",
   "execution_count": 33,
   "id": "4300df51",
   "metadata": {},
   "outputs": [
    {
     "name": "stdout",
     "output_type": "stream",
     "text": [
      "{1, 2, 3, 4, 5}\n",
      "{0, 1, 2, 4, 5, 6, 7, 8, 9, 10, 11, 12, 13, 14, 15}\n",
      "{0, 3, 6, 7, 8, 9, 10, 11, 12, 13, 14, 15}\n",
      "The length of set_1 is: 5\n",
      "The length of set_2 is: 15\n",
      "The length of set_3 is: 12\n",
      "The length of all three sets together is :32\n"
     ]
    }
   ],
   "source": [
    "# your code here\n",
    "set_1 = {1, 2, 3, 4, 5}\n",
    "set_2 = set(int_list)\n",
    "\n",
    "set_3 = set_1.symmetric_difference(set_2)\n",
    "\n",
    "print(set_1)\n",
    "print(set_2)\n",
    "print(set_3)\n",
    "\n",
    "print(\"The length of set_1 is: \" + str(len(set_1)))\n",
    "print(\"The length of set_2 is: \" + str(len(set_2)))\n",
    "print(\"The length of set_3 is: \" + str(len(set_3)))\n",
    "\n",
    "print(\"The length of all three sets together is :\" + str(len(set_1) +len(set_2) +len(set_3)))"
   ]
  },
  {
   "cell_type": "markdown",
   "id": "7cd5e698",
   "metadata": {},
   "source": [
    "## Question 4\n",
    "1) Import default dict and set the default value to 'Not Present'. Call this dict_1.\n",
    "\n",
    "2) Add `int_list`, `set_2`, and `set_3` to `dict_1` using the object names as the key names. \n",
    "\n",
    "3) Create a new dictionary, `dict_2`, using curly bracket notation with `set_1` and `az_list` as the keys and values. \n",
    "\n",
    "4) Invoke the default value of `dict_1` by trying to access the key `az_list`. Create a new set named `set_4` from the value of `dict_1['az_list']`. What is the lenght of the difference between `dict_2['az_list']` and `set_4'?\n",
    "\n",
    "5) Update `dict_2` with `dict_1`. Print the value of the key `az_list` from `dict_2`. What happened?\n",
    "\n",
    "\n",
    "\n",
    "\n"
   ]
  },
  {
   "cell_type": "code",
   "execution_count": 79,
   "id": "6c85d4be",
   "metadata": {},
   "outputs": [
    {
     "name": "stdout",
     "output_type": "stream",
     "text": [
      "defaultdict(<function default_value at 0x00000214B864BB00>, {'int_list': [1, 13, 15, 0, 6, 14, 15, 8, 5, 1, 15, 10, 2, 7, 11, 1, 13, 4, 11, 12, 13, 9, 8, 14, 5, 9, 11, 4, 14, 7, 14, 12, 1, 0, 7, 4, 6, 9, 11, 7, 10, 14, 13, 15, 2, 10, 5, 7, 13, 7], 'set_2': {0, 1, 2, 4, 5, 6, 7, 8, 9, 10, 11, 12, 13, 14, 15}, 'set_3': {0, 3, 6, 7, 8, 9, 10, 11, 12, 13, 14, 15}})\n",
      "(1, 2, 3, 4, 5) : ('A', 'B', 'C', 'D', 'E', 'F', 'G', 'H', 'I', 'J', 'K', 'L', 'M', 'N', 'O', 'P', 'Q', 'R', 'S', 'T', 'U', 'V', 'W', 'X', 'Y', 'Z')\n",
      "Not Present\n",
      "2\n",
      "{(1, 2, 3, 4, 5): ('A', 'B', 'C', 'D', 'E', 'F', 'G', 'H', 'I', 'J', 'K', 'L', 'M', 'N', 'O', 'P', 'Q', 'R', 'S', 'T', 'U', 'V', 'W', 'X', 'Y', 'Z'), 'int_list': [1, 13, 15, 0, 6, 14, 15, 8, 5, 1, 15, 10, 2, 7, 11, 1, 13, 4, 11, 12, 13, 9, 8, 14, 5, 9, 11, 4, 14, 7, 14, 12, 1, 0, 7, 4, 6, 9, 11, 7, 10, 14, 13, 15, 2, 10, 5, 7, 13, 7], 'set_2': {0, 1, 2, 4, 5, 6, 7, 8, 9, 10, 11, 12, 13, 14, 15}, 'set_3': {0, 3, 6, 7, 8, 9, 10, 11, 12, 13, 14, 15}, 'az_list': 'Not Present'}\n",
      "Not Present\n"
     ]
    }
   ],
   "source": [
    "# your code here\n",
    "from collections import defaultdict\n",
    "\n",
    "#part 1\n",
    "def default_value():\n",
    "    return \"Not Present\"\n",
    "\n",
    "dict_1 = defaultdict(default_value)\n",
    "\n",
    "\n",
    "#part 2\n",
    "dict_1[\"int_list\"] = int_list\n",
    "dict_1[\"set_2\"] = set_2\n",
    "dict_1[\"set_3\"] = set_3\n",
    "print(dict_1)\n",
    "\n",
    "\n",
    "#part 3\n",
    "dict_2 = {}\n",
    "\n",
    "set_1_tuple = tuple(set_1)\n",
    "az_list_tuple = tuple(az_list)\n",
    "\n",
    "dict_2[set_1_tuple] = az_list_tuple\n",
    "\n",
    "for key, value in dict_2.items():\n",
    "    print(key, ':', value)\n",
    "\n",
    "\n",
    "#part 4\n",
    "print(dict_1['az_list'])\n",
    "\n",
    "set_4 = set(dict_1['az_list'])\n",
    "\n",
    "print(len(dict_1['az_list']) - len(set_4))\n",
    "\n",
    "#part 5\n",
    "dict_2.update(dict_1)\n",
    "print(dict_2['az_list'])\n",
    "#printing the value of az_list returns the value \"Not Present\" from the key value pair"
   ]
  },
  {
   "cell_type": "code",
   "execution_count": null,
   "id": "4e3e14d5",
   "metadata": {},
   "outputs": [],
   "source": []
  }
 ],
 "metadata": {
  "kernelspec": {
   "display_name": "Python 3 (ipykernel)",
   "language": "python",
   "name": "python3"
  },
  "language_info": {
   "codemirror_mode": {
    "name": "ipython",
    "version": 3
   },
   "file_extension": ".py",
   "mimetype": "text/x-python",
   "name": "python",
   "nbconvert_exporter": "python",
   "pygments_lexer": "ipython3",
   "version": "3.11.3"
  }
 },
 "nbformat": 4,
 "nbformat_minor": 5
}
